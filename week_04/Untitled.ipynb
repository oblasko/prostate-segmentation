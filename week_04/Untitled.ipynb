{
 "cells": [
  {
   "cell_type": "markdown",
   "metadata": {},
   "source": [
    "# Week 4 report"
   ]
  },
  {
   "cell_type": "markdown",
   "metadata": {},
   "source": [
    "## Triplet model - Synthetic data analysis"
   ]
  },
  {
   "cell_type": "markdown",
   "metadata": {},
   "source": [
    "### Creating the synthetic data"
   ]
  },
  {
   "cell_type": "code",
   "execution_count": null,
   "metadata": {},
   "outputs": [],
   "source": [
    "from PIL import Image, ImageDraw\n",
    "import numpy as np\n",
    "import matplotlib.pyplot as plt\n",
    "from matplotlib.patches import Circle\n",
    "\n",
    "#create all black image\n",
    "black_img_arr = np.zeros(shape=(512,512,3))\n",
    "plt.imsave('black_img.png', black_img_arr)\n",
    "\n",
    "# Make some example data\n",
    "x = np.random.rand(2)*black_img_arr.shape[1]\n",
    "y = np.random.rand(2)*black_img_arr.shape[0]\n",
    "\n",
    "print(black_img_arr.shape[1])\n",
    "print(black_img_arr.shape[0])\n",
    "\n",
    "print(x)\n",
    "print(y)\n",
    "\n",
    "# Create a figure. Equal aspect so circles look circular\n",
    "fig,ax = plt.subplots(1)\n",
    "#plt.figure(figsize=(512/96, 512/96), dpi=96)   \n",
    "ax.set_aspect('equal')\n",
    "\n",
    "i = 0\n",
    "# Now, loop through coord arrays, and create a circle at each x,y pair\n",
    "for xx,yy in zip(x,y):\n",
    "    ax.imshow(black_img_arr)\n",
    "    circ = Circle((xx,yy),50,color=\"white\")\n",
    "    ax.add_patch(circ)\n",
    "    plt.axis(\"off\")\n",
    "    plt.figure(figsize=(512/96, 512/96), dpi=96)\n",
    "    plt.savefig(\"data/synthetic-data-\" + str(i), bbox_inches='tight', pad_inches = 0, transparent=True, dpi=96)\n",
    "    ax.clear()\n",
    "    i+=1\n",
    "# Show the image\n",
    "#plt.show()"
   ]
  },
  {
   "cell_type": "markdown",
   "metadata": {},
   "source": [
    "### Synthetic data overview\n",
    "![](synthetic-data.png)"
   ]
  },
  {
   "cell_type": "markdown",
   "metadata": {},
   "source": [
    "### Importing synthetic data"
   ]
  },
  {
   "cell_type": "code",
   "execution_count": null,
   "metadata": {},
   "outputs": [],
   "source": [
    "import glob\n",
    "from scipy import misc\n",
    "import numpy as np\n",
    "from sklearn.model_selection import train_test_split\n",
    "import os\n",
    "\n",
    "imgs_list = []\n",
    "flnames_list = []\n",
    "for img_flname in glob.glob('*.tif'):\n",
    "    img = misc.imread(img_flname)\n",
    "    imgs_list.append(img)\n",
    "    flnames_list.append(img_flname)\n",
    "\n",
    "imgs_train, imgs_test, flnames_train, flnames_test = train_test_split( np.array(imgs_list), np.array(flnames_list))\n",
    "\n",
    "#print( imgs_train.shape )\n",
    "#print( flnames_train.shape )\n",
    "#print( imgs_test.shape )\n",
    "#print( flnames_test.shape )\n",
    "\n",
    "np.save(os.path.join(\"nparrays\", \"imgs_train.npy\"),\n",
    "        np.array(imgs_train))\n",
    "np.save(os.path.join(\"nparrays\", \"imgs_test.npy\"),\n",
    "        np.array(imgs_test))\n",
    "np.save(os.path.join(\"nparrays\", \"flnames_train.npy\"),\n",
    "        np.array(flnames_train))\n",
    "np.save(os.path.join(\"nparrays\", \"flnames_test.npy\"),\n",
    "        np.array(flnames_test))\n",
    "np.save(os.path.join(\"nparrays\", \"masks_train.npy\"),\n",
    "        np.array(imgs_train))\n",
    "np.save(os.path.join(\"nparrays\", \"masks_test.npy\"),\n",
    "        np.array(imgs_test))"
   ]
  },
  {
   "cell_type": "markdown",
   "metadata": {},
   "source": [
    "## Results"
   ]
  },
  {
   "cell_type": "markdown",
   "metadata": {},
   "source": [
    "### Results on synthetic data\n",
    "\n",
    "|       | Accuracy           | Dice coefficient |\n",
    "| ------------- |:-------------:| -----:|\n",
    "| Base model      | 0.9901 | 0.9967 |\n",
    "| Triplet model      | 0.9902      |    0.9968 | "
   ]
  },
  {
   "cell_type": "markdown",
   "metadata": {},
   "source": [
    "### Results on patient data"
   ]
  },
  {
   "cell_type": "markdown",
   "metadata": {},
   "source": [
    "|       | Accuracy           | Dice coefficient |\n",
    "| ------------- |:-------------:| -----:|\n",
    "| Base model      |  0.873 | 0.800 +- 0.33 |\n",
    "| Triplet model      | 0.829  | 0.734 +- 0.380 |"
   ]
  },
  {
   "cell_type": "markdown",
   "metadata": {},
   "source": [
    "#### Observation\n",
    "The triplet model looses accuaracy and produce less precise masks as the base model if trained and evaluated on patient data, however if trained and evaluated on synthetic data, it's not the case."
   ]
  },
  {
   "cell_type": "code",
   "execution_count": null,
   "metadata": {},
   "outputs": [],
   "source": []
  }
 ],
 "metadata": {
  "kernelspec": {
   "display_name": "Python 3",
   "language": "python",
   "name": "python3"
  },
  "language_info": {
   "codemirror_mode": {
    "name": "ipython",
    "version": 3
   },
   "file_extension": ".py",
   "mimetype": "text/x-python",
   "name": "python",
   "nbconvert_exporter": "python",
   "pygments_lexer": "ipython3",
   "version": "3.6.5"
  }
 },
 "nbformat": 4,
 "nbformat_minor": 2
}
